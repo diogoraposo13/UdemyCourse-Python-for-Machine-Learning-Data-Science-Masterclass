{
 "cells": [
  {
   "cell_type": "code",
   "execution_count": 1,
   "id": "a92220a4",
   "metadata": {},
   "outputs": [],
   "source": [
    "import pandas as pd"
   ]
  },
  {
   "cell_type": "code",
   "execution_count": 2,
   "id": "89c825b9",
   "metadata": {},
   "outputs": [],
   "source": [
    "url = \"https://en.wikipedia.org/wiki/World_population\""
   ]
  },
  {
   "cell_type": "code",
   "execution_count": 4,
   "id": "36b97617",
   "metadata": {},
   "outputs": [],
   "source": [
    "tables = pd.read_html(url)"
   ]
  },
  {
   "cell_type": "code",
   "execution_count": 7,
   "id": "8b1ec525",
   "metadata": {},
   "outputs": [
    {
     "data": {
      "text/plain": [
       "30"
      ]
     },
     "execution_count": 7,
     "metadata": {},
     "output_type": "execute_result"
    }
   ],
   "source": [
    "len(tables)"
   ]
  },
  {
   "cell_type": "code",
   "execution_count": 18,
   "id": "7d8bdc9b",
   "metadata": {},
   "outputs": [],
   "source": [
    "world_topten = tables[1]"
   ]
  },
  {
   "cell_type": "code",
   "execution_count": 20,
   "id": "dda12578",
   "metadata": {},
   "outputs": [
    {
     "data": {
      "text/plain": [
       "Index(['Region', '2022 (percent)', '2030 (percent)', '2050 (percent)'], dtype='object')"
      ]
     },
     "execution_count": 20,
     "metadata": {},
     "output_type": "execute_result"
    }
   ],
   "source": [
    "world_topten.columns"
   ]
  },
  {
   "cell_type": "code",
   "execution_count": 21,
   "id": "25e8d5a5",
   "metadata": {},
   "outputs": [
    {
     "data": {
      "text/plain": [
       "0                    Sub-Saharan Africa\n",
       "1      Northern Africa and Western Asia\n",
       "2        Central Asia and Southern Asia\n",
       "3    Eastern Asia and Southeastern Asia\n",
       "4           Europe and Northern America\n",
       "5       Latin America and the Caribbean\n",
       "6             Australia and New Zealand\n",
       "7                               Oceania\n",
       "8                                 World\n",
       "Name: Region, dtype: object"
      ]
     },
     "execution_count": 21,
     "metadata": {},
     "output_type": "execute_result"
    }
   ],
   "source": [
    "world_topten['Region']"
   ]
  },
  {
   "cell_type": "code",
   "execution_count": 23,
   "id": "a7121fe9",
   "metadata": {},
   "outputs": [],
   "source": [
    "world_topten.to_html('sampleeeeee_table.html',index=False)"
   ]
  },
  {
   "cell_type": "code",
   "execution_count": null,
   "id": "f4f682f2",
   "metadata": {},
   "outputs": [],
   "source": []
  }
 ],
 "metadata": {
  "kernelspec": {
   "display_name": "Python 3 (ipykernel)",
   "language": "python",
   "name": "python3"
  },
  "language_info": {
   "codemirror_mode": {
    "name": "ipython",
    "version": 3
   },
   "file_extension": ".py",
   "mimetype": "text/x-python",
   "name": "python",
   "nbconvert_exporter": "python",
   "pygments_lexer": "ipython3",
   "version": "3.11.5"
  }
 },
 "nbformat": 4,
 "nbformat_minor": 5
}
