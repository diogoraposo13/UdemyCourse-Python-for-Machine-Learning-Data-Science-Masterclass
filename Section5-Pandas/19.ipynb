{
 "cells": [
  {
   "cell_type": "code",
   "execution_count": 1,
   "id": "548eff37",
   "metadata": {},
   "outputs": [],
   "source": [
    "import numpy as np"
   ]
  },
  {
   "cell_type": "code",
   "execution_count": 2,
   "id": "a4d4146d",
   "metadata": {},
   "outputs": [],
   "source": [
    "import pandas as pd"
   ]
  },
  {
   "cell_type": "code",
   "execution_count": 4,
   "id": "556982a0",
   "metadata": {},
   "outputs": [],
   "source": [
    "#help(pd.Series)"
   ]
  },
  {
   "cell_type": "code",
   "execution_count": 6,
   "id": "4021a238",
   "metadata": {},
   "outputs": [],
   "source": [
    "myindex = ['USA','Canada','Mexico']"
   ]
  },
  {
   "cell_type": "code",
   "execution_count": 7,
   "id": "e76b40ee",
   "metadata": {},
   "outputs": [],
   "source": [
    "mydata = [1776,1867,1821]"
   ]
  },
  {
   "cell_type": "code",
   "execution_count": 16,
   "id": "dc80097f",
   "metadata": {},
   "outputs": [],
   "source": [
    "myser = pd.Series(mydata,myindex)"
   ]
  },
  {
   "cell_type": "code",
   "execution_count": 17,
   "id": "262a4bc9",
   "metadata": {},
   "outputs": [
    {
     "data": {
      "text/plain": [
       "USA       1776\n",
       "Canada    1867\n",
       "Mexico    1821\n",
       "dtype: int64"
      ]
     },
     "execution_count": 17,
     "metadata": {},
     "output_type": "execute_result"
    }
   ],
   "source": [
    "myser"
   ]
  },
  {
   "cell_type": "code",
   "execution_count": 18,
   "id": "83d1b51f",
   "metadata": {},
   "outputs": [
    {
     "data": {
      "text/plain": [
       "pandas.core.series.Series"
      ]
     },
     "execution_count": 18,
     "metadata": {},
     "output_type": "execute_result"
    }
   ],
   "source": [
    "type(myser)"
   ]
  },
  {
   "cell_type": "code",
   "execution_count": 19,
   "id": "0d2c125d",
   "metadata": {},
   "outputs": [
    {
     "data": {
      "text/plain": [
       "1776"
      ]
     },
     "execution_count": 19,
     "metadata": {},
     "output_type": "execute_result"
    }
   ],
   "source": [
    "myser[0]"
   ]
  },
  {
   "cell_type": "code",
   "execution_count": 20,
   "id": "d52f6cab",
   "metadata": {},
   "outputs": [
    {
     "data": {
      "text/plain": [
       "1776"
      ]
     },
     "execution_count": 20,
     "metadata": {},
     "output_type": "execute_result"
    }
   ],
   "source": [
    "myser['USA']"
   ]
  },
  {
   "cell_type": "code",
   "execution_count": 21,
   "id": "16e12410",
   "metadata": {},
   "outputs": [],
   "source": [
    "ages = {'Sam':5,'Frank':10,'Spike':7}"
   ]
  },
  {
   "cell_type": "code",
   "execution_count": 22,
   "id": "31804f75",
   "metadata": {},
   "outputs": [
    {
     "data": {
      "text/plain": [
       "Sam       5\n",
       "Frank    10\n",
       "Spike     7\n",
       "dtype: int64"
      ]
     },
     "execution_count": 22,
     "metadata": {},
     "output_type": "execute_result"
    }
   ],
   "source": [
    "pd.Series(ages)"
   ]
  },
  {
   "cell_type": "code",
   "execution_count": 23,
   "id": "9d69c479",
   "metadata": {},
   "outputs": [],
   "source": [
    "q1 = {'Japan':80, 'China':450, 'India':200, 'USA': 250}\n",
    "q2 = {'Brazil':100, 'China': 500, 'India':210, 'USA':260}"
   ]
  },
  {
   "cell_type": "code",
   "execution_count": 24,
   "id": "cbd778be",
   "metadata": {},
   "outputs": [],
   "source": [
    "sales_q1 = pd.Series(q1)"
   ]
  },
  {
   "cell_type": "code",
   "execution_count": 25,
   "id": "729ab4e8",
   "metadata": {},
   "outputs": [],
   "source": [
    "sales_q2 = pd.Series(q2)"
   ]
  },
  {
   "cell_type": "code",
   "execution_count": 26,
   "id": "107fcf1d",
   "metadata": {},
   "outputs": [
    {
     "data": {
      "text/plain": [
       "Japan     80\n",
       "China    450\n",
       "India    200\n",
       "USA      250\n",
       "dtype: int64"
      ]
     },
     "execution_count": 26,
     "metadata": {},
     "output_type": "execute_result"
    }
   ],
   "source": [
    "sales_q1"
   ]
  },
  {
   "cell_type": "code",
   "execution_count": 27,
   "id": "3fece4c1",
   "metadata": {},
   "outputs": [
    {
     "data": {
      "text/plain": [
       "Brazil    100\n",
       "China     500\n",
       "India     210\n",
       "USA       260\n",
       "dtype: int64"
      ]
     },
     "execution_count": 27,
     "metadata": {},
     "output_type": "execute_result"
    }
   ],
   "source": [
    "sales_q2"
   ]
  },
  {
   "cell_type": "code",
   "execution_count": 28,
   "id": "27d11eec",
   "metadata": {},
   "outputs": [
    {
     "data": {
      "text/plain": [
       "80"
      ]
     },
     "execution_count": 28,
     "metadata": {},
     "output_type": "execute_result"
    }
   ],
   "source": [
    "sales_q1['Japan']"
   ]
  },
  {
   "cell_type": "code",
   "execution_count": 29,
   "id": "0bae8f42",
   "metadata": {},
   "outputs": [
    {
     "data": {
      "text/plain": [
       "80"
      ]
     },
     "execution_count": 29,
     "metadata": {},
     "output_type": "execute_result"
    }
   ],
   "source": [
    "sales_q1[0]"
   ]
  },
  {
   "cell_type": "code",
   "execution_count": 30,
   "id": "b2c35843",
   "metadata": {},
   "outputs": [
    {
     "data": {
      "text/plain": [
       "Index(['Japan', 'China', 'India', 'USA'], dtype='object')"
      ]
     },
     "execution_count": 30,
     "metadata": {},
     "output_type": "execute_result"
    }
   ],
   "source": [
    "sales_q1.keys()"
   ]
  },
  {
   "cell_type": "code",
   "execution_count": 31,
   "id": "5365bba2",
   "metadata": {},
   "outputs": [
    {
     "data": {
      "text/plain": [
       "[1, 2, 1, 2]"
      ]
     },
     "execution_count": 31,
     "metadata": {},
     "output_type": "execute_result"
    }
   ],
   "source": [
    "[1,2] * 2"
   ]
  },
  {
   "cell_type": "code",
   "execution_count": 32,
   "id": "a07fa2dc",
   "metadata": {},
   "outputs": [
    {
     "data": {
      "text/plain": [
       "array([2, 4])"
      ]
     },
     "execution_count": 32,
     "metadata": {},
     "output_type": "execute_result"
    }
   ],
   "source": [
    "np.array([1,2]) * 2"
   ]
  },
  {
   "cell_type": "code",
   "execution_count": 33,
   "id": "46bead42",
   "metadata": {},
   "outputs": [
    {
     "data": {
      "text/plain": [
       "Japan    160\n",
       "China    900\n",
       "India    400\n",
       "USA      500\n",
       "dtype: int64"
      ]
     },
     "execution_count": 33,
     "metadata": {},
     "output_type": "execute_result"
    }
   ],
   "source": [
    "sales_q1 * 2"
   ]
  },
  {
   "cell_type": "code",
   "execution_count": 34,
   "id": "4ee147e4",
   "metadata": {},
   "outputs": [
    {
     "data": {
      "text/plain": [
       "Japan    0.8\n",
       "China    4.5\n",
       "India    2.0\n",
       "USA      2.5\n",
       "dtype: float64"
      ]
     },
     "execution_count": 34,
     "metadata": {},
     "output_type": "execute_result"
    }
   ],
   "source": [
    "sales_q1 / 100"
   ]
  },
  {
   "cell_type": "code",
   "execution_count": 35,
   "id": "fbe4e6b4",
   "metadata": {},
   "outputs": [
    {
     "data": {
      "text/plain": [
       "Japan     80\n",
       "China    450\n",
       "India    200\n",
       "USA      250\n",
       "dtype: int64"
      ]
     },
     "execution_count": 35,
     "metadata": {},
     "output_type": "execute_result"
    }
   ],
   "source": [
    "sales_q1"
   ]
  },
  {
   "cell_type": "code",
   "execution_count": 36,
   "id": "129bef97",
   "metadata": {},
   "outputs": [
    {
     "data": {
      "text/plain": [
       "Brazil    100\n",
       "China     500\n",
       "India     210\n",
       "USA       260\n",
       "dtype: int64"
      ]
     },
     "execution_count": 36,
     "metadata": {},
     "output_type": "execute_result"
    }
   ],
   "source": [
    "sales_q2"
   ]
  },
  {
   "cell_type": "code",
   "execution_count": 37,
   "id": "259e05e6",
   "metadata": {},
   "outputs": [
    {
     "data": {
      "text/plain": [
       "Brazil      NaN\n",
       "China     950.0\n",
       "India     410.0\n",
       "Japan       NaN\n",
       "USA       510.0\n",
       "dtype: float64"
      ]
     },
     "execution_count": 37,
     "metadata": {},
     "output_type": "execute_result"
    }
   ],
   "source": [
    "sales_q1 + sales_q2"
   ]
  },
  {
   "cell_type": "code",
   "execution_count": 41,
   "id": "6128d528",
   "metadata": {},
   "outputs": [],
   "source": [
    "first_half = sales_q1.add(sales_q2,fill_value=0)"
   ]
  },
  {
   "cell_type": "code",
   "execution_count": 40,
   "id": "2541cf73",
   "metadata": {},
   "outputs": [
    {
     "data": {
      "text/plain": [
       "dtype('int64')"
      ]
     },
     "execution_count": 40,
     "metadata": {},
     "output_type": "execute_result"
    }
   ],
   "source": [
    "sales_q1.dtype"
   ]
  },
  {
   "cell_type": "code",
   "execution_count": 42,
   "id": "5add87ae",
   "metadata": {},
   "outputs": [
    {
     "data": {
      "text/plain": [
       "dtype('float64')"
      ]
     },
     "execution_count": 42,
     "metadata": {},
     "output_type": "execute_result"
    }
   ],
   "source": [
    "first_half.dtype"
   ]
  },
  {
   "cell_type": "code",
   "execution_count": null,
   "id": "8965054b",
   "metadata": {},
   "outputs": [],
   "source": []
  }
 ],
 "metadata": {
  "kernelspec": {
   "display_name": "Python 3 (ipykernel)",
   "language": "python",
   "name": "python3"
  },
  "language_info": {
   "codemirror_mode": {
    "name": "ipython",
    "version": 3
   },
   "file_extension": ".py",
   "mimetype": "text/x-python",
   "name": "python",
   "nbconvert_exporter": "python",
   "pygments_lexer": "ipython3",
   "version": "3.11.5"
  }
 },
 "nbformat": 4,
 "nbformat_minor": 5
}
